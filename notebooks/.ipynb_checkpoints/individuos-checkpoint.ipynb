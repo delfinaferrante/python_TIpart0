{
 "cells": [
  {
   "cell_type": "code",
   "execution_count": 12,
   "id": "c16d908c",
   "metadata": {},
   "outputs": [],
   "source": [
    "import os\n",
    "import sys\n",
    "\n",
    "sys.path.append(os.path.abspath(\"../files\"))\n",
    "sys.path.append(os.path.abspath(\"../src\"))"
   ]
  },
  {
   "cell_type": "code",
   "execution_count": null,
   "id": "33f93be3",
   "metadata": {},
   "outputs": [],
   "source": [
    "import csv\n",
    "from src import calcular_edad\n",
    "\n",
    "path_file = '../files/usu_individual_T324.txt'\n",
    "\n",
    "CH04_INDEX = 11     # Sexo: 1 = varones || 2 = mujeres\n",
    "PONDERA_INDEX = 9   # Ponderación\n",
    "CH06_INDEX = 12     # Edad\n",
    "NIVEL_ED_INDEX = 63 # Nivel educativo\n",
    "\n",
    "cont_m = 0\n",
    "cont_f = 0\n",
    "cont_secundario = 0\n",
    "\n",
    "with open (path_file, encoding='utf-8') as archivo_csv:\n",
    "    reader = csv.reader(archivo_csv, delimiter=';')\n",
    "    encabezado = next(reader)\n",
    "\n",
    "    for row in reader:\n",
    "        pondera = int(row[PONDERA_INDEX])\n",
    "        edad = calcular_edad(row[CH06_INDEX])\n",
    "        nivel = int(row[NIVEL_ED_INDEX])\n",
    "\n",
    "        # Contadores de sexo\n",
    "        if row[CH04_INDEX] == '1':\n",
    "            cont_m += pondera\n",
    "        else:\n",
    "            cont_f += pondera\n",
    "\n",
    "        # Edad y nivel educativo\n",
    "        if edad >= 18 and nivel in {4,5,6}:\n",
    "            cont_secundario += pondera\n",
    "\n",
    "print(\"Total mujeres: \" + str(cont_f) + \" || Total hombres: \" + str(cont_m))\n",
    "print(\"Mayores de edad con secundario completo: \" + str(cont_secundario))"
   ]
  }
 ],
 "metadata": {
  "kernelspec": {
   "display_name": ".venv",
   "language": "python",
   "name": "python3"
  },
  "language_info": {
   "codemirror_mode": {
    "name": "ipython",
    "version": 3
   },
   "file_extension": ".py",
   "mimetype": "text/x-python",
   "name": "python",
   "nbconvert_exporter": "python",
   "pygments_lexer": "ipython3",
   "version": "3.12.9"
  }
 },
 "nbformat": 4,
 "nbformat_minor": 5
}
