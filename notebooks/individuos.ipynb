{
 "cells": [
  {
   "cell_type": "code",
   "execution_count": 1,
   "id": "c16d908c",
   "metadata": {},
   "outputs": [],
   "source": [
    "import os\n",
    "import sys\n",
    "\n",
    "sys.path.append(os.path.abspath(\"../files\"))"
   ]
  },
  {
   "cell_type": "code",
   "execution_count": 7,
   "id": "33f93be3",
   "metadata": {},
   "outputs": [
    {
     "name": "stdout",
     "output_type": "stream",
     "text": [
      "Total mujeres: 15248344 || Total hombres: 14471801\n"
     ]
    }
   ],
   "source": [
    "import csv\n",
    "path_file = '../files/usu_individual_T324.txt'\n",
    "\n",
    "CH04_INDEX = 11     # 1 = varones || 2 = mujeres\n",
    "PONDERA_INDEX = 9\n",
    "\n",
    "cont_m = 0\n",
    "cont_f = 0\n",
    "\n",
    "with open (path_file, encoding='utf-8') as archivo_csv:\n",
    "    reader = csv.reader(archivo_csv, delimiter=';')\n",
    "    encabezado = next(reader)\n",
    "\n",
    "    for row in reader:\n",
    "        if row[CH04_INDEX] == '1':\n",
    "            cont_m += 1 * (int(row[PONDERA_INDEX]))\n",
    "        else:\n",
    "            cont_f += 1 * (int(row[PONDERA_INDEX]))\n",
    "print(\"Total mujeres: \" + str(cont_f) + \" || Total hombres: \" + str(cont_m))"
   ]
  }
 ],
 "metadata": {
  "kernelspec": {
   "display_name": ".venv",
   "language": "python",
   "name": "python3"
  },
  "language_info": {
   "codemirror_mode": {
    "name": "ipython",
    "version": 3
   },
   "file_extension": ".py",
   "mimetype": "text/x-python",
   "name": "python",
   "nbconvert_exporter": "python",
   "pygments_lexer": "ipython3",
   "version": "3.12.9"
  }
 },
 "nbformat": 4,
 "nbformat_minor": 5
}
