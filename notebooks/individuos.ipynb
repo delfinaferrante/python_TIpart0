{
 "cells": [
  {
   "cell_type": "code",
   "execution_count": 1,
   "id": "c16d908c",
   "metadata": {},
   "outputs": [],
   "source": [
    "import os\n",
    "import sys\n",
    "\n",
    "sys.path.append(os.path.abspath(\"../files\"))"
   ]
  },
  {
   "cell_type": "code",
   "execution_count": null,
   "id": "33f93be3",
   "metadata": {},
   "outputs": [],
   "source": [
    "import csv\n",
    "path_file = '../files/usu_hogar_T324.txt'\n",
    "with open (path_file, encoding='utf-8') as archivo_csv:\n",
    "    reader = csv.reader(archivo_csv, delimiter=';')\n",
    "    for row in reader:\n",
    "        print(row)"
   ]
  }
 ],
 "metadata": {
  "kernelspec": {
   "display_name": ".venv",
   "language": "python",
   "name": "python3"
  },
  "language_info": {
   "codemirror_mode": {
    "name": "ipython",
    "version": 3
   },
   "file_extension": ".py",
   "mimetype": "text/x-python",
   "name": "python",
   "nbconvert_exporter": "python",
   "pygments_lexer": "ipython3",
   "version": "3.12.9"
  }
 },
 "nbformat": 4,
 "nbformat_minor": 5
}
